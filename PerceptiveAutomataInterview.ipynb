{
 "cells": [
  {
   "cell_type": "code",
   "execution_count": null,
   "metadata": {},
   "outputs": [],
   "source": []
  },
  {
   "cell_type": "code",
   "execution_count": 65,
   "metadata": {},
   "outputs": [],
   "source": [
    "from abc import ABC, abstractmethod\n",
    "import matplotlib as plt \n",
    "from matplotlib import pyplot\n",
    "import numpy as np\n",
    "from collections import namedtuple\n",
    "from datetime import datetime"
   ]
  },
  {
   "cell_type": "code",
   "execution_count": 61,
   "metadata": {},
   "outputs": [],
   "source": [
    "# Example time_step\n",
    "sample_input_0 = {\n",
    "    \"requests\": [\n",
    "         { \n",
    "           \"name\": \"Elon\", \n",
    "           \"start\": (3,5), \n",
    "           \"end\": (8,7) \n",
    "        },\n",
    "        { \n",
    "           \"name\": \"George\", \n",
    "           \"start\": (1,2), \n",
    "           \"end\": (4,3) \n",
    "        }\n",
    "      ] \n",
    "   }\n",
    "\n",
    "sample_input_1 = {\n",
    "    \"requests\": [\n",
    "         { \n",
    "           \"name\": \"Elton\", \n",
    "           \"start\": (8,8), \n",
    "           \"end\": (0,1) \n",
    "        },\n",
    "        { \n",
    "           \"name\": \"Georgia\", \n",
    "           \"start\": (3,9), \n",
    "           \"end\": (3,0) \n",
    "        }\n",
    "      ] \n",
    "   }"
   ]
  },
  {
   "cell_type": "code",
   "execution_count": 80,
   "metadata": {},
   "outputs": [
    {
     "data": {
      "text/plain": [
       "'C:\\\\Users\\\\Doug'"
      ]
     },
     "execution_count": 80,
     "metadata": {},
     "output_type": "execute_result"
    }
   ],
   "source": [
    "% pwd"
   ]
  },
  {
   "cell_type": "markdown",
   "metadata": {},
   "source": [
    "### REMEMBER YOU ALREADY DID A BUNCH OF THE ALGO STUFF ON OTHER LAPPTOP"
   ]
  },
  {
   "cell_type": "code",
   "execution_count": 79,
   "metadata": {},
   "outputs": [],
   "source": [
    "Itinerary = namedtuple(\"Itinerary\", [\"to_pickup\", \"to_dropoff\", \"hold_dropoff\"], defaults=[set(),set(),set()])\n",
    "Location = namedtuple(\"Location\", (\"x\", \"y\"))\n",
    "Velocity = namedtuple(\"Velocity\", (\"dx\", \"dy\"))\n",
    "Stop = namedtuple(\"Stop\", (\"location\", \"pickup_or_dropoff\"))"
   ]
  },
  {
   "cell_type": "code",
   "execution_count": 71,
   "metadata": {},
   "outputs": [
    {
     "data": {
      "text/plain": [
       "-1"
      ]
     },
     "execution_count": 71,
     "metadata": {},
     "output_type": "execute_result"
    }
   ],
   "source": [
    "np.sign()"
   ]
  },
  {
   "cell_type": "code",
   "execution_count": 73,
   "metadata": {},
   "outputs": [],
   "source": [
    "class Car():\n",
    "    \"\"\"\n",
    "    TODO: Docstring\n",
    "    \"\"\"\n",
    "    def __init__(self, initial_location: tuple):\n",
    "        self.current_location = Location(*initial_location)\n",
    "        self.itinerary = Itinerary()\n",
    "        self.history = []\n",
    "        self.passenger_log = []\n",
    "        self.next_stop = Location(10,10)\n",
    "        \n",
    "    def add_passenger_to_itinerary(self, passenger):\n",
    "        self.itinerary.to_pickup.add(passenger)\n",
    "        self.itinerary.hold_dropoff.add(passenger)\n",
    "        \n",
    "    def optimize_route(self):\n",
    "        pass\n",
    "    \n",
    "    def plan_path_to_next_stop(self):\n",
    "        # another strategy potentially; this is just a stand-in dummy one\n",
    "        if self.current_location.x != self.next_stop.x: \n",
    "            self.current_velocity = Velocity(np.sign(self.next_stop.x - self.current_location.x), 0)\n",
    "        elif self.current_location.y != self.next_stop.y:\n",
    "            self.current_velocity = Velocity(0, np.sign(self.next_stop.y - self.current_location.y))\n",
    "        else:\n",
    "            self.current_velocity = Velocity(0, 0)\n",
    "        \n",
    "    def drive_for_one_timestep(self):\n",
    "        pass\n",
    "    \n",
    "    def pickup_passenger(self, passenger):\n",
    "        passenger.time_since_picked_up = datetime.now()\n",
    "        self.itinerary.hold_dropoff.remove(passenger)\n",
    "        self.itinerary.add_dropoff.add(passenger)\n",
    "        \n",
    "    def dropoff_passenger():\n",
    "        pass"
   ]
  },
  {
   "cell_type": "code",
   "execution_count": 74,
   "metadata": {},
   "outputs": [],
   "source": [
    "cl = Location(1,2)"
   ]
  },
  {
   "cell_type": "code",
   "execution_count": 77,
   "metadata": {},
   "outputs": [],
   "source": [
    "ns = Location(1,2)"
   ]
  },
  {
   "cell_type": "code",
   "execution_count": 78,
   "metadata": {},
   "outputs": [
    {
     "data": {
      "text/plain": [
       "True"
      ]
     },
     "execution_count": 78,
     "metadata": {},
     "output_type": "execute_result"
    }
   ],
   "source": [
    "cl == ns"
   ]
  },
  {
   "cell_type": "code",
   "execution_count": 58,
   "metadata": {},
   "outputs": [],
   "source": [
    "class Passenger():\n",
    "    identifier = 0\n",
    "    \"\"\"\n",
    "    TODO: Docstring\n",
    "    \"\"\"\n",
    "    def __init__(self, name, pickup_coordinates, dropoff_coordinates):\n",
    "        self.name = name\n",
    "        self.identifier = Passenger.identifier\n",
    "        Passenger.identifier += 1\n",
    "        self.pickup_coordinates = pickup_coordinates\n",
    "        self.dropoff_coordinates = dropoff_coordinates\n",
    "        self.time_since_requested_pickup = datetime.now()\n",
    "        self.time_since_picked_up = None\n",
    "        "
   ]
  },
  {
   "cell_type": "code",
   "execution_count": 59,
   "metadata": {},
   "outputs": [],
   "source": [
    "class Simulator():\n",
    "    \"\"\"\n",
    "    TODO: Docstring\n",
    "    \"\"\"\n",
    "    def __init__(self, optimizer=None, planner=None, map_size=10, map_scale_block_to_km=1, car_origin=(0,0), max_time=None):\n",
    "        self.current_timestep = 0\n",
    "        self.mappy = Map(map_size)\n",
    "        self.auto_car = Car(car_origin)\n",
    "        self.optimizer = optimizer\n",
    "        pass\n",
    "    \n",
    "    def step_forward(self, request_list=[]):\n",
    "        if request_list:\n",
    "            for passenger_dict in request_list[\"requests\"]:\n",
    "                passenger = Passenger(\n",
    "                    name=passenger_dict[\"name\"],\n",
    "                    pickup_coordinates=passenger_dict[\"start\"],\n",
    "                    dropoff_coordinates=passenger_dict[\"end\"])\n",
    "                self.auto_car.add_passenger_to_itinerary(passenger) # [for passenger in request_list]\n",
    "    \n",
    "        auto_car.drive_for_one_timestep()\n",
    "        \n",
    "        \n",
    "    def visualize_map():\n",
    "        pass\n",
    "    \n",
    "    "
   ]
  },
  {
   "cell_type": "markdown",
   "metadata": {},
   "source": [
    "## EXAMPLE USAGE"
   ]
  },
  {
   "cell_type": "code",
   "execution_count": 60,
   "metadata": {},
   "outputs": [
    {
     "data": {
      "text/plain": [
       "{'current_location': (0, 0),\n",
       " 'itinerary': Itinerary(to_pickup={1, <__main__.Passenger object at 0x000002159DB4B828>, <__main__.Passenger object at 0x000002159DB4B7B8>, 'a'}, to_dropoff=set(), hold_dropoff={<__main__.Passenger object at 0x000002159DB4B828>, <__main__.Passenger object at 0x000002159DB4B7B8>}),\n",
       " 'history': [],\n",
       " 'passenger_log': []}"
      ]
     },
     "execution_count": 60,
     "metadata": {},
     "output_type": "execute_result"
    }
   ],
   "source": [
    "sim = Simulator()\n",
    "sim.step_forward(sample_input)\n",
    "sim.step_forward(sample_input)\n",
    "sim.step_forward(sample_input)\n",
    "sim.step_forward(sample_input)\n",
    "sim.step_forward(sample_input)\n",
    "sim.auto_car.__dict__"
   ]
  },
  {
   "cell_type": "code",
   "execution_count": null,
   "metadata": {},
   "outputs": [],
   "source": []
  },
  {
   "cell_type": "code",
   "execution_count": null,
   "metadata": {},
   "outputs": [],
   "source": []
  },
  {
   "cell_type": "code",
   "execution_count": null,
   "metadata": {},
   "outputs": [],
   "source": []
  },
  {
   "cell_type": "code",
   "execution_count": 21,
   "metadata": {},
   "outputs": [],
   "source": [
    "class Map():\n",
    "    \"\"\"\n",
    "    TODO: Docstring\n",
    "    \"\"\"\n",
    "    def __init__(self, map_size):\n",
    "        self.map_size = map_size\n",
    "        self.grid = np.ndarray((map_size, map_size))\n",
    "        \n",
    "    def visualize_map(self, car=None, passenger_list=None):\n",
    "        # make values from -5 to 5, for this example\n",
    "        map_array = np.zeros((self.map_size,self.map_size))\n",
    "\n",
    "        # make a color map of fixed colors\n",
    "        cmap = plt.colors.ListedColormap(['blue','white','red'])\n",
    "        bounds=[-6,-2,2,6]\n",
    "        norm = plt.colors.BoundaryNorm(bounds, cmap.N)\n",
    "\n",
    "        # tell imshow about color map so that only set colors are used\n",
    "        img = pyplot.imshow(map_array,interpolation='nearest',\n",
    "                            cmap = cmap,norm=norm)\n",
    "\n",
    "        # make a color bar\n",
    "        pyplot.colorbar(img,cmap=cmap,\n",
    "                        norm=norm,boundaries=bounds,ticks=[-5,0,5])\n",
    "\n",
    "        pyplot.show()"
   ]
  },
  {
   "cell_type": "code",
   "execution_count": 38,
   "metadata": {},
   "outputs": [],
   "source": [
    "mappy = Map(10)"
   ]
  },
  {
   "cell_type": "code",
   "execution_count": 39,
   "metadata": {},
   "outputs": [
    {
     "data": {
      "image/png": "[encoded data removed]",
      "text/plain": [
       "<Figure size 432x288 with 2 Axes>"
      ]
     },
     "metadata": {
      "needs_background": "light"
     },
     "output_type": "display_data"
    }
   ],
   "source": [
    "mappy.visualize_map()"
   ]
  },
  {
   "cell_type": "code",
   "execution_count": 9,
   "metadata": {},
   "outputs": [],
   "source": []
  },
  {
   "cell_type": "code",
   "execution_count": 40,
   "metadata": {},
   "outputs": [],
   "source": [
    "BETA_MAP = np.ndarray((10,10))"
   ]
  },
  {
   "cell_type": "code",
   "execution_count": 46,
   "metadata": {},
   "outputs": [
    {
     "data": {
      "text/plain": [
       "<matplotlib.image.AxesImage at 0x2550ec54588>"
      ]
     },
     "execution_count": 46,
     "metadata": {},
     "output_type": "execute_result"
    },
    {
     "data": {
      "image/png": "[encoded data removed]",
      "text/plain": [
       "<Figure size 432x288 with 1 Axes>"
      ]
     },
     "metadata": {
      "needs_background": "light"
     },
     "output_type": "display_data"
    }
   ],
   "source": [
    "pyplot.imshow(BETA_MAP) "
   ]
  },
  {
   "cell_type": "code",
   "execution_count": 47,
   "metadata": {},
   "outputs": [],
   "source": [
    "BETA_MAP[0,0] = 1 "
   ]
  },
  {
   "cell_type": "code",
   "execution_count": 48,
   "metadata": {},
   "outputs": [
    {
     "data": {
      "text/plain": [
       "<matplotlib.image.AxesImage at 0x2550eca7b00>"
      ]
     },
     "execution_count": 48,
     "metadata": {},
     "output_type": "execute_result"
    },
    {
     "data": {
      "image/png": "[encoded data removed]",
      "text/plain": [
       "<Figure size 432x288 with 1 Axes>"
      ]
     },
     "metadata": {
      "needs_background": "light"
     },
     "output_type": "display_data"
    }
   ],
   "source": [
    "pyplot.imshow(BETA_MAP) "
   ]
  },
  {
   "cell_type": "code",
   "execution_count": null,
   "metadata": {},
   "outputs": [],
   "source": [
    "def map_to_graph():\n",
    "    \"\"\"\n",
    "    Takes simple array map and turns it into a standard graph representation for algorithm usage.\n",
    "    \n",
    "    args: map (np.ndarray) - \n",
    "    \n",
    "    returns: graph ()\n",
    "    \"\"\""
   ]
  },
  {
   "cell_type": "code",
   "execution_count": 10,
   "metadata": {},
   "outputs": [],
   "source": []
  },
  {
   "cell_type": "code",
   "execution_count": null,
   "metadata": {},
   "outputs": [],
   "source": [
    "class Itinerary():\n",
    "    \"\"\"\n",
    "    TODO: Docstring\n",
    "    \"\"\"\n",
    "    def __init__():\n",
    "        pass\n",
    "    \n",
    "    def add_passenger():\n",
    "        "
   ]
  },
  {
   "cell_type": "code",
   "execution_count": null,
   "metadata": {},
   "outputs": [],
   "source": []
  },
  {
   "cell_type": "code",
   "execution_count": null,
   "metadata": {},
   "outputs": [],
   "source": []
  },
  {
   "cell_type": "code",
   "execution_count": 56,
   "metadata": {},
   "outputs": [],
   "source": [
    "class AbstractOptimizer(ABC):\n",
    "    \"\"\"\n",
    "    TODO: Docstring\n",
    "    Strategy pattern to \n",
    "    \"\"\"\n",
    "    @abstractmethod\n",
    "    def __init__(self):\n",
    "        pass\n",
    "    \n",
    "\n",
    "class DumbOptimizer(AbstractOptimizer):\n",
    "    \"\"\"\n",
    "    Optimizer that simply uses Euclidean (or Manahattan) distance to choose destination\n",
    "        ordering by nearness /only/ to current position. \n",
    "    \"\"\"\n",
    "    def __init__(self):\n",
    "        self.destination_sequence = []\n",
    "        \n",
    "    def optimize_destination_sequence(itinerary):\n",
    "        \n",
    "        \n",
    "    \n",
    "class BruteForceOptimizer(AbstractOptimizer):\n",
    "    \"\"\"\n",
    "    TODO: Docstring\n",
    "    \"\"\"\n",
    "    def __init__():\n",
    "        pass\n",
    "    \n",
    "class GrassFireOptimizer(AbstractOptimizer):\n",
    "    \"\"\"\n",
    "    TODO: Docstring\n",
    "    \"\"\"\n",
    "    def __init__():\n",
    "        pass\n",
    "    \n",
    "class MSTOptimizer(AbstractOptimizer):\n",
    "    \"\"\"\n",
    "    TODO: Docstring\n",
    "    \"\"\"\n",
    "    def __init__():\n",
    "        pass\n",
    "    \n",
    "class SOPOptimizer(AbstractOptimizer):\n",
    "    \"\"\"\n",
    "    TODO: Docstring\n",
    "    \"\"\"\n",
    "    def __init__():\n",
    "        pass"
   ]
  },
  {
   "cell_type": "code",
   "execution_count": 57,
   "metadata": {},
   "outputs": [
    {
     "data": {
      "text/plain": [
       "<__main__.TrivialOptimizer at 0x2550ecd43c8>"
      ]
     },
     "execution_count": 57,
     "metadata": {},
     "output_type": "execute_result"
    }
   ],
   "source": [
    "TrivialOptimizer()"
   ]
  },
  {
   "cell_type": "code",
   "execution_count": null,
   "metadata": {},
   "outputs": [],
   "source": []
  }
 ],
 "metadata": {
  "kernelspec": {
   "display_name": "Python 3",
   "language": "python",
   "name": "python3"
  },
  "language_info": {
   "codemirror_mode": {
    "name": "ipython",
    "version": 3
   },
   "file_extension": ".py",
   "mimetype": "text/x-python",
   "name": "python",
   "nbconvert_exporter": "python",
   "pygments_lexer": "ipython3",
   "version": "3.7.0"
  }
 },
 "nbformat": 4,
 "nbformat_minor": 2
}
