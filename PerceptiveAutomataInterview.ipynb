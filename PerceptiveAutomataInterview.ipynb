{
 "cells": [
  {
   "cell_type": "code",
   "execution_count": 31,
   "metadata": {},
   "outputs": [],
   "source": [
    "from abc import ABC, abstractmethod\n",
    "import matplotlib as plt \n",
    "from matplotlib import pyplot\n",
    "import numpy as np\n",
    "import typing\n",
    "import itertools as it\n",
    "from pprint import pprint\n",
    "from collections import namedtuple, deque\n",
    "from datetime import datetime\n",
    "\n",
    "import networkx as nx\n",
    "from networkx import *\n",
    "\n",
    "\n",
    "\n",
    "# Example time_step\n",
    "sample_input_0 = {\n",
    "    \"requests\": [\n",
    "         { \n",
    "           \"name\": \"sample\", \n",
    "           \"start\": (10,10), \n",
    "           \"end\": (5,5) \n",
    "        }\n",
    "      ] \n",
    "   }\n",
    "    \n",
    "    \n",
    "sample_input_1 = {\n",
    "    \"requests\": [\n",
    "         { \n",
    "           \"name\": \"Elon\", \n",
    "           \"start\": (3,5), \n",
    "           \"end\": (8,7) \n",
    "        },\n",
    "        { \n",
    "           \"name\": \"George\", \n",
    "           \"start\": (1,2), \n",
    "           \"end\": (4,3) \n",
    "        }\n",
    "      ] \n",
    "   }\n",
    "\n",
    "sample_input_2 = {\n",
    "    \"requests\": [\n",
    "         { \n",
    "           \"name\": \"Elton\", \n",
    "           \"start\": (8,8), \n",
    "           \"end\": (0,1) \n",
    "        },\n",
    "        { \n",
    "           \"name\": \"Georgia\", \n",
    "           \"start\": (3,9), \n",
    "           \"end\": (3,0) \n",
    "        }\n",
    "      ] \n",
    "   }\n",
    "\n",
    "\n",
    "class Map():\n",
    "    \"\"\"\n",
    "    TODO: Docstring\n",
    "    TODO: Should I also be polymorphic for more complicated grids then just Manahattan maps?\n",
    "    \"\"\"\n",
    "    def __init__(self, map_size):\n",
    "        self.map_size = map_size\n",
    "        self.grid = np.ndarray((map_size, map_size))\n",
    "        \n",
    "    def visualize_map(self, car=None, passenger_list=None):\n",
    "        # make values from -5 to 5, for this example\n",
    "        map_array = np.zeros((self.map_size,self.map_size))\n",
    "\n",
    "        # make a color map of fixed colors\n",
    "        cmap = plt.colors.ListedColormap(['blue','white','red'])\n",
    "        bounds=[-6,-2,2,6]\n",
    "        norm = plt.colors.BoundaryNorm(bounds, cmap.N)\n",
    "\n",
    "        # tell imshow about color map so that only set colors are used\n",
    "        img = pyplot.imshow(map_array,interpolation='nearest',\n",
    "                            cmap = cmap,norm=norm)\n",
    "\n",
    "        # make a color bar\n",
    "        pyplot.colorbar(img,cmap=cmap,\n",
    "                        norm=norm,boundaries=bounds,ticks=[-5,0,5])\n",
    "\n",
    "        pyplot.show()"
   ]
  },
  {
   "cell_type": "markdown",
   "metadata": {},
   "source": [
    "### REMEMBER YOU ALREADY DID A BUNCH OF THE ALGO STUFF ON OTHER LAPPTOP"
   ]
  },
  {
   "cell_type": "code",
   "execution_count": 10,
   "metadata": {},
   "outputs": [],
   "source": [
    "# Itinerary = namedtuple(\"Itinerary\", [\"to_pickup\", \"to_dropoff\", \"hold_dropoff\"], defaults=[set(),set(),set()])\n",
    "Location = namedtuple(\"Location\", (\"x\", \"y\"))\n",
    "Velocity = namedtuple(\"Velocity\", (\"dx\", \"dy\"))\n",
    "Stop = namedtuple(\"Stop\", (\"location\", \"pickup_or_dropoff\", \"passenger\")) # TODO: ENUMERATED TYPE"
   ]
  },
  {
   "cell_type": "code",
   "execution_count": null,
   "metadata": {},
   "outputs": [],
   "source": []
  },
  {
   "cell_type": "code",
   "execution_count": 11,
   "metadata": {},
   "outputs": [],
   "source": [
    "class Passenger():\n",
    "    identifier = 0\n",
    "    \"\"\"\n",
    "    TODO: Docstring\n",
    "    \"\"\"\n",
    "    def __init__(self, name, pickup_location: Location, dropoff_location: Location):\n",
    "        self.name = name\n",
    "        self.identifier = Passenger.identifier\n",
    "        Passenger.identifier += 1\n",
    "        self.is_in_car = False\n",
    "        self.pickup_location = pickup_location\n",
    "        self.dropoff_location = dropoff_location\n",
    "        self.time_since_requested_pickup = datetime.now()\n",
    "        self.time_picked_up = None\n",
    "        self.time_since_picked_up = None\n",
    "        self.time_dropped_off = None\n",
    "        "
   ]
  },
  {
   "cell_type": "code",
   "execution_count": 12,
   "metadata": {},
   "outputs": [],
   "source": [
    "class Simulator():\n",
    "    \"\"\"\n",
    "    TODO: Docstring\n",
    "    \"\"\"\n",
    "    def __init__(self, optimizer=None, planner=None, map_size=10, map_scale_block_to_km=1, car_origin=(0,0), max_time=None):\n",
    "        self.current_timestep = 0\n",
    "        print(\"timestep: {}\".format(self.current_timestep))\n",
    "        self.mappy = Map(map_size)\n",
    "        self.auto_car = Car(car_origin)\n",
    "        print(\"current car location: {}\".format(self.auto_car.current_location))\n",
    "\n",
    "        self.optimizer = optimizer\n",
    "        pass\n",
    "    \n",
    "    def step_forward(self, request_list=[]):\n",
    "        if request_list:\n",
    "            for passenger_dict in request_list[\"requests\"]:\n",
    "                passenger = Passenger(\n",
    "                    name=passenger_dict[\"name\"],\n",
    "                    pickup_location=Location(*passenger_dict[\"start\"]),\n",
    "                    dropoff_location=Location(*passenger_dict[\"end\"]))\n",
    "                self.auto_car.add_passenger_to_itinerary(passenger) # [for passenger in request_list]\n",
    "    \n",
    "        self.auto_car.drive_for_one_timestep()\n",
    "        \n",
    "        self.current_timestep += 1\n",
    "        print(\"timestep: {}\".format(self.current_timestep))\n",
    "        print(\"current car location: {}\".format(self.auto_car.current_location))\n",
    "        \n",
    "    def visualize_map():\n",
    "        pass\n",
    "    \n",
    "    def run_simulation(self, steps=20):\n",
    "        self.step_forward(sample_input_0)\n",
    "        self.step_forward()\n",
    "        self.step_forward()\n",
    "        self.step_forward()\n",
    "        self.step_forward(sample_input_1)\n",
    "        self.step_forward()\n",
    "        self.step_forward()\n",
    "        self.step_forward()\n",
    "        self.step_forward()\n",
    "        while self.auto_car.current_plan:\n",
    "            self.step_forward()\n",
    "        print(\"All done driving for today!!!\")\n",
    "    \n",
    "    "
   ]
  },
  {
   "cell_type": "code",
   "execution_count": 27,
   "metadata": {},
   "outputs": [],
   "source": [
    "class StrategicRouteOptimizer(object):\n",
    "    \"\"\"\n",
    "    TODO: \n",
    "    \"\"\"\n",
    "    def __init__(self, passenger_list):\n",
    "        \"\"\"\n",
    "        Looks at passeneger list (and potentially other context) and chooses the ideal optimizer \n",
    "            for the current situation. Currently shortcut for nonsense.\n",
    "        \"\"\"\n",
    "        self.passenger_list = passenger_list\n",
    "        print(passenger_list)\n",
    "        self.active_optimizer = self._select_optimizer_from_context()\n",
    "    \n",
    "    def _select_optimizer_from_context(self):\n",
    "        \"\"\"\n",
    "        Dummied for the time being.\n",
    "        \"\"\"\n",
    "        return DumbSOPOptimizer()\n",
    "        \n",
    "    def _translate_passenger_list_to_graph(self, passenger_list):\n",
    "        graph = passenger_list\n",
    "        return graph\n",
    "    \n",
    "    def _translate_graph_to_itinerary(self, graph): #: Graph) -> Itinerary:\n",
    "        itinerary = graph\n",
    "        return graph\n",
    "        \n",
    "    def generate_optimal_route(self): # -> itinerary    optimal here in a non-technical sense\n",
    "        graph = self._translate_passenger_list_to_graph(self.passenger_list)\n",
    "        optimal_graph = self.active_optimizer.optimize_sequential_order_problem(self.passenger_list)\n",
    "        itinerary = self._translate_graph_to_itinerary(optimal_graph)\n",
    "        return itinerary \n",
    "\n",
    "class AbstractSOPOptimizer(ABC):\n",
    "    \"\"\"\n",
    "    TODO: Docstring\n",
    "    Strategy pattern to \n",
    "    \"\"\"\n",
    "    @abstractmethod\n",
    "    def __init__(self):\n",
    "        pass\n",
    "    \n",
    "    @abstractmethod\n",
    "    def optimize_sequential_order_problem(self, passenger_list): #: Graph):\n",
    "        pass\n",
    "    \n",
    "\n",
    "class DumbSOPOptimizer(AbstractSOPOptimizer):\n",
    "    \"\"\"\n",
    "    Optimizer that simply uses Euclidean (or Manahattan) distance to choose destination\n",
    "        ordering by nearness /only/ to current position. \n",
    "    \"\"\"\n",
    "    def __init__(self):\n",
    "        self.itinerary = deque()\n",
    "        \n",
    "    def optimize_sequential_order_problem(self, passenger_graph): #: Graph) -> Graph:\n",
    "        for passenger in passenger_graph:\n",
    "            if not passenger.is_in_car:\n",
    "                self.itinerary.appendleft(Stop(passenger.pickup_location, \"pickup\", passenger))\n",
    "            self.itinerary.appendleft(Stop(passenger.dropoff_location, \"dropoff\", passenger))\n",
    "        return self.itinerary\n",
    "        \n",
    "        \n",
    "class BruteForceSOPOptimizer(AbstractSOPOptimizer):\n",
    "    \"\"\"\n",
    "    TODO: Docstring\n",
    "    \"\"\"\n",
    "    def __init__(self, passenger_list):\n",
    "        # convert into form useable for bruteforce sequential ordering problem, with constraints and minimal metadata\n",
    "        abbr_stop = namedtuple(\"abbr_stop\", (\"name\", \"location\"))\n",
    "        dropoffs = []\n",
    "        pickups = []\n",
    "        constrained_dropoffs = []\n",
    "        for passenger in passenger_list:\n",
    "            if passenger.is_in_car:\n",
    "                "
   ]
  },
  {
   "cell_type": "code",
   "execution_count": 28,
   "metadata": {},
   "outputs": [],
   "source": [
    "class Car():\n",
    "    \"\"\"\n",
    "    TODO: Docstring\n",
    "    \"\"\"\n",
    "    def __init__(self, initial_location: tuple):\n",
    "        self.current_location = Location(*initial_location)\n",
    "        self.history = []\n",
    "        self.passenger_log = []\n",
    "        self.next_stop = None\n",
    "        self.current_velocity = Velocity(0,0)\n",
    "        self.current_users = []\n",
    "        self.current_plan = None\n",
    "        self.need_to_reoptimize = False  # will be a state machine kind of thing\n",
    "                                \n",
    "    def add_passenger_to_itinerary(self, passenger): # TODO: change name\n",
    "        self.current_users.append(passenger)\n",
    "        self.need_to_reoptimize = True\n",
    "        \n",
    "    def optimize_route(self) -> deque:\n",
    "        print(\"REOPTIMIZING ROUTTTTEEEE!!!!\")\n",
    "        # stand-in dummy one, first come, first serve. returns active_users list\n",
    "        self.optimizer = StrategicRouteOptimizer(self.current_users)\n",
    "        # try except\n",
    "        self.current_plan = self.optimizer.generate_optimal_route()\n",
    "        print(self.current_plan)\n",
    "        self.need_to_reoptimize = False\n",
    "    \n",
    "    def set_next_step(self):\n",
    "        pass\n",
    "    \n",
    "    def set_next_stop(self):\n",
    "        self.next_stop = self.current_plan[-1]\n",
    "\n",
    "    def plan_path_to_next_stop(self): # more like a trajectory in some senses, but whatever, will get back to it.\n",
    "        # another strategy potentially; this is just a stand-in dummy one\n",
    "        if self.current_location.x != self.next_stop.location.x: # Manhattan grid, drive along x until aligned with destination, then along y\n",
    "            self.current_velocity = Velocity(np.sign(self.next_stop.location.x - self.current_location.x), 0)\n",
    "        elif self.current_location.y != self.next_stop.location.y:\n",
    "            self.current_velocity = Velocity(0, np.sign(self.next_stop.location.y - self.current_location.y))\n",
    "        else:\n",
    "            self.current_velocity = Velocity(0, 0)\n",
    "        \n",
    "    def drive_for_one_timestep(self):\n",
    "        if self.need_to_reoptimize: self.optimize_route()\n",
    "        self.set_next_stop()\n",
    "        self.plan_path_to_next_stop()\n",
    "    \n",
    "        self.current_location = Location( # where in this is self-monitoring for staying in bounds going to occur? probably can be relegated to only request ingestion since there's no obstables\n",
    "                                    self.current_location.x + self.current_velocity.dx,\n",
    "                                    self.current_location.y + self.current_velocity.dy\n",
    "                                )\n",
    "        if self.current_location == self.next_stop.location:\n",
    "            print(\"{} HERE FOR {}\".format(self.next_stop.pickup_or_dropoff, self.next_stop.passenger.name))\n",
    "            if self.next_stop.pickup_or_dropoff == \"dropoff\":\n",
    "                self.next_stop.passenger.time_dropped_off = datetime.now()\n",
    "                self.next_stop.passenger.is_in_car = False\n",
    "            elif self.next_stop.pickup_or_dropoff == \"pickup\":\n",
    "                self.next_stop.passenger.time_picked_up = datetime.now()\n",
    "                self.next_stop.passenger.is_in_car = True\n",
    "\n",
    "            self.current_plan.pop()\n",
    "        \n",
    "    def pickup_passenger(self, passenger):\n",
    "        passenger.time_since_picked_up = datetime.now()\n",
    "        self.itinerary.hold_dropoff.remove(passenger)\n",
    "        self.itinerary.add_dropoff.add(passenger)\n",
    "        self.active_users.append(passenger)\n",
    "        \n",
    "    def dropoff_passenger():\n",
    "        pass"
   ]
  },
  {
   "cell_type": "code",
   "execution_count": 29,
   "metadata": {},
   "outputs": [],
   "source": [
    "Graph = typing.NewType(\"Graph\", list)"
   ]
  },
  {
   "cell_type": "code",
   "execution_count": null,
   "metadata": {},
   "outputs": [],
   "source": []
  },
  {
   "cell_type": "markdown",
   "metadata": {},
   "source": [
    "## EXAMPLE USAGE"
   ]
  },
  {
   "cell_type": "code",
   "execution_count": 30,
   "metadata": {},
   "outputs": [
    {
     "name": "stdout",
     "output_type": "stream",
     "text": [
      "timestep: 0\n",
      "current car location: Location(x=0, y=0)\n",
      "REOPTIMIZING ROUTTTTEEEE!!!!\n",
      "[<__main__.Passenger object at 0x000001DF29325B70>]\n",
      "deque([Stop(location=Location(x=5, y=5), pickup_or_dropoff='dropoff', passenger=<__main__.Passenger object at 0x000001DF29325B70>), Stop(location=Location(x=10, y=10), pickup_or_dropoff='pickup', passenger=<__main__.Passenger object at 0x000001DF29325B70>)])\n",
      "timestep: 1\n",
      "current car location: Location(x=1, y=0)\n",
      "timestep: 2\n",
      "current car location: Location(x=2, y=0)\n",
      "timestep: 3\n",
      "current car location: Location(x=3, y=0)\n",
      "timestep: 4\n",
      "current car location: Location(x=4, y=0)\n",
      "REOPTIMIZING ROUTTTTEEEE!!!!\n",
      "[<__main__.Passenger object at 0x000001DF29325B70>, <__main__.Passenger object at 0x000001DF293252B0>, <__main__.Passenger object at 0x000001DF29325390>]\n",
      "deque([Stop(location=Location(x=4, y=3), pickup_or_dropoff='dropoff', passenger=<__main__.Passenger object at 0x000001DF29325390>), Stop(location=Location(x=1, y=2), pickup_or_dropoff='pickup', passenger=<__main__.Passenger object at 0x000001DF29325390>), Stop(location=Location(x=8, y=7), pickup_or_dropoff='dropoff', passenger=<__main__.Passenger object at 0x000001DF293252B0>), Stop(location=Location(x=3, y=5), pickup_or_dropoff='pickup', passenger=<__main__.Passenger object at 0x000001DF293252B0>), Stop(location=Location(x=5, y=5), pickup_or_dropoff='dropoff', passenger=<__main__.Passenger object at 0x000001DF29325B70>), Stop(location=Location(x=10, y=10), pickup_or_dropoff='pickup', passenger=<__main__.Passenger object at 0x000001DF29325B70>)])\n",
      "timestep: 5\n",
      "current car location: Location(x=5, y=0)\n",
      "timestep: 6\n",
      "current car location: Location(x=6, y=0)\n",
      "timestep: 7\n",
      "current car location: Location(x=7, y=0)\n",
      "timestep: 8\n",
      "current car location: Location(x=8, y=0)\n",
      "timestep: 9\n",
      "current car location: Location(x=9, y=0)\n",
      "timestep: 10\n",
      "current car location: Location(x=10, y=0)\n",
      "timestep: 11\n",
      "current car location: Location(x=10, y=1)\n",
      "timestep: 12\n",
      "current car location: Location(x=10, y=2)\n",
      "timestep: 13\n",
      "current car location: Location(x=10, y=3)\n",
      "timestep: 14\n",
      "current car location: Location(x=10, y=4)\n",
      "timestep: 15\n",
      "current car location: Location(x=10, y=5)\n",
      "timestep: 16\n",
      "current car location: Location(x=10, y=6)\n",
      "timestep: 17\n",
      "current car location: Location(x=10, y=7)\n",
      "timestep: 18\n",
      "current car location: Location(x=10, y=8)\n",
      "timestep: 19\n",
      "current car location: Location(x=10, y=9)\n",
      "pickup HERE FOR sample\n",
      "timestep: 20\n",
      "current car location: Location(x=10, y=10)\n",
      "timestep: 21\n",
      "current car location: Location(x=9, y=10)\n",
      "timestep: 22\n",
      "current car location: Location(x=8, y=10)\n",
      "timestep: 23\n",
      "current car location: Location(x=7, y=10)\n",
      "timestep: 24\n",
      "current car location: Location(x=6, y=10)\n",
      "timestep: 25\n",
      "current car location: Location(x=5, y=10)\n",
      "timestep: 26\n",
      "current car location: Location(x=5, y=9)\n",
      "timestep: 27\n",
      "current car location: Location(x=5, y=8)\n",
      "timestep: 28\n",
      "current car location: Location(x=5, y=7)\n",
      "timestep: 29\n",
      "current car location: Location(x=5, y=6)\n",
      "dropoff HERE FOR sample\n",
      "timestep: 30\n",
      "current car location: Location(x=5, y=5)\n",
      "timestep: 31\n",
      "current car location: Location(x=4, y=5)\n",
      "pickup HERE FOR Elon\n",
      "timestep: 32\n",
      "current car location: Location(x=3, y=5)\n",
      "timestep: 33\n",
      "current car location: Location(x=4, y=5)\n",
      "timestep: 34\n",
      "current car location: Location(x=5, y=5)\n",
      "timestep: 35\n",
      "current car location: Location(x=6, y=5)\n",
      "timestep: 36\n",
      "current car location: Location(x=7, y=5)\n",
      "timestep: 37\n",
      "current car location: Location(x=8, y=5)\n",
      "timestep: 38\n",
      "current car location: Location(x=8, y=6)\n",
      "dropoff HERE FOR Elon\n",
      "timestep: 39\n",
      "current car location: Location(x=8, y=7)\n",
      "timestep: 40\n",
      "current car location: Location(x=7, y=7)\n",
      "timestep: 41\n",
      "current car location: Location(x=6, y=7)\n",
      "timestep: 42\n",
      "current car location: Location(x=5, y=7)\n",
      "timestep: 43\n",
      "current car location: Location(x=4, y=7)\n",
      "timestep: 44\n",
      "current car location: Location(x=3, y=7)\n",
      "timestep: 45\n",
      "current car location: Location(x=2, y=7)\n",
      "timestep: 46\n",
      "current car location: Location(x=1, y=7)\n",
      "timestep: 47\n",
      "current car location: Location(x=1, y=6)\n",
      "timestep: 48\n",
      "current car location: Location(x=1, y=5)\n",
      "timestep: 49\n",
      "current car location: Location(x=1, y=4)\n",
      "timestep: 50\n",
      "current car location: Location(x=1, y=3)\n",
      "pickup HERE FOR George\n",
      "timestep: 51\n",
      "current car location: Location(x=1, y=2)\n",
      "timestep: 52\n",
      "current car location: Location(x=2, y=2)\n",
      "timestep: 53\n",
      "current car location: Location(x=3, y=2)\n",
      "timestep: 54\n",
      "current car location: Location(x=4, y=2)\n",
      "dropoff HERE FOR George\n",
      "timestep: 55\n",
      "current car location: Location(x=4, y=3)\n",
      "All done driving for today!!!\n"
     ]
    }
   ],
   "source": [
    "sim = Simulator()\n",
    "sim.run_simulation()"
   ]
  },
  {
   "cell_type": "code",
   "execution_count": 81,
   "metadata": {},
   "outputs": [
    {
     "name": "stdout",
     "output_type": "stream",
     "text": [
      "[(9, 9), (9, 8), (9, 7), (9, 6), (9, 5), (9, 4), (9, 3), (9, 2), (9, 1), (9, 0), (8, 9), (8, 8), (8, 7), (8, 6), (8, 5), (8, 4), (8, 3), (8, 2), (8, 1), (8, 0), (7, 9), (7, 8), (7, 7), (7, 6), (7, 5), (7, 4), (7, 3), (7, 2), (7, 1), (7, 0), (6, 9), (6, 8), (6, 7), (6, 6), (6, 5), (6, 4), (6, 3), (6, 2), (6, 1), (6, 0), (5, 9), (5, 8), (5, 7), (5, 6), (5, 5), (5, 4), (5, 3), (5, 2), (5, 1), (5, 0), (4, 9), (4, 8), (4, 7), (4, 6), (4, 5), (4, 4), (4, 3), (4, 2), (4, 1), (4, 0), (3, 9), (3, 8), (3, 7), (3, 6), (3, 5), (3, 4), (3, 3), (3, 2), (3, 1), (3, 0), (2, 9), (2, 8), (2, 7), (2, 6), (2, 5), (2, 4), (2, 3), (2, 2), (2, 1), (2, 0), (1, 9), (1, 8), (1, 7), (1, 6), (1, 5), (1, 4), (1, 3), (1, 2), (1, 1), (1, 0), (0, 9), (0, 8), (0, 7), (0, 6), (0, 5), (0, 4), (0, 3), (0, 2), (0, 1), (0, 0)]\n"
     ]
    },
    {
     "ename": "KeyError",
     "evalue": "0",
     "output_type": "error",
     "traceback": [
      "\u001b[1;31m---------------------------------------------------------------------------\u001b[0m",
      "\u001b[1;31mKeyError\u001b[0m                                  Traceback (most recent call last)",
      "\u001b[1;32m<ipython-input-81-a89dc8a0360f>\u001b[0m in \u001b[0;36m<module>\u001b[1;34m()\u001b[0m\n\u001b[0;32m     52\u001b[0m \u001b[0mlabels\u001b[0m\u001b[1;33m[\u001b[0m\u001b[1;36m6\u001b[0m\u001b[1;33m]\u001b[0m \u001b[1;33m=\u001b[0m \u001b[1;34mr'$\\gamma$'\u001b[0m\u001b[1;33m\u001b[0m\u001b[0m\n\u001b[0;32m     53\u001b[0m \u001b[0mlabels\u001b[0m\u001b[1;33m[\u001b[0m\u001b[1;36m7\u001b[0m\u001b[1;33m]\u001b[0m \u001b[1;33m=\u001b[0m \u001b[1;34mr'$\\delta$'\u001b[0m\u001b[1;33m\u001b[0m\u001b[0m\n\u001b[1;32m---> 54\u001b[1;33m \u001b[0mnx\u001b[0m\u001b[1;33m.\u001b[0m\u001b[0mdraw_networkx_labels\u001b[0m\u001b[1;33m(\u001b[0m\u001b[0mG\u001b[0m\u001b[1;33m,\u001b[0m \u001b[0mpos\u001b[0m\u001b[1;33m,\u001b[0m \u001b[0mlabels\u001b[0m\u001b[1;33m,\u001b[0m \u001b[0mfont_size\u001b[0m\u001b[1;33m=\u001b[0m\u001b[1;36m16\u001b[0m\u001b[1;33m)\u001b[0m\u001b[1;33m\u001b[0m\u001b[0m\n\u001b[0m\u001b[0;32m     55\u001b[0m \u001b[1;33m\u001b[0m\u001b[0m\n\u001b[0;32m     56\u001b[0m \u001b[0mplt\u001b[0m\u001b[1;33m.\u001b[0m\u001b[0maxis\u001b[0m\u001b[1;33m(\u001b[0m\u001b[1;34m'off'\u001b[0m\u001b[1;33m)\u001b[0m\u001b[1;33m\u001b[0m\u001b[0m\n",
      "\u001b[1;32m~\\Anaconda3\\lib\\site-packages\\networkx\\drawing\\nx_pylab.py\u001b[0m in \u001b[0;36mdraw_networkx_labels\u001b[1;34m(G, pos, labels, font_size, font_color, font_family, font_weight, alpha, bbox, ax, **kwds)\u001b[0m\n\u001b[0;32m    790\u001b[0m     \u001b[0mtext_items\u001b[0m \u001b[1;33m=\u001b[0m \u001b[1;33m{\u001b[0m\u001b[1;33m}\u001b[0m  \u001b[1;31m# there is no text collection so we'll fake one\u001b[0m\u001b[1;33m\u001b[0m\u001b[0m\n\u001b[0;32m    791\u001b[0m     \u001b[1;32mfor\u001b[0m \u001b[0mn\u001b[0m\u001b[1;33m,\u001b[0m \u001b[0mlabel\u001b[0m \u001b[1;32min\u001b[0m \u001b[0mlabels\u001b[0m\u001b[1;33m.\u001b[0m\u001b[0mitems\u001b[0m\u001b[1;33m(\u001b[0m\u001b[1;33m)\u001b[0m\u001b[1;33m:\u001b[0m\u001b[1;33m\u001b[0m\u001b[0m\n\u001b[1;32m--> 792\u001b[1;33m         \u001b[1;33m(\u001b[0m\u001b[0mx\u001b[0m\u001b[1;33m,\u001b[0m \u001b[0my\u001b[0m\u001b[1;33m)\u001b[0m \u001b[1;33m=\u001b[0m \u001b[0mpos\u001b[0m\u001b[1;33m[\u001b[0m\u001b[0mn\u001b[0m\u001b[1;33m]\u001b[0m\u001b[1;33m\u001b[0m\u001b[0m\n\u001b[0m\u001b[0;32m    793\u001b[0m         \u001b[1;32mif\u001b[0m \u001b[1;32mnot\u001b[0m \u001b[0mis_string_like\u001b[0m\u001b[1;33m(\u001b[0m\u001b[0mlabel\u001b[0m\u001b[1;33m)\u001b[0m\u001b[1;33m:\u001b[0m\u001b[1;33m\u001b[0m\u001b[0m\n\u001b[0;32m    794\u001b[0m             \u001b[0mlabel\u001b[0m \u001b[1;33m=\u001b[0m \u001b[0mstr\u001b[0m\u001b[1;33m(\u001b[0m\u001b[0mlabel\u001b[0m\u001b[1;33m)\u001b[0m  \u001b[1;31m# this makes \"1\" and 1 labeled the same\u001b[0m\u001b[1;33m\u001b[0m\u001b[0m\n",
      "\u001b[1;31mKeyError\u001b[0m: 0"
     ]
    },
    {
     "data": {
      "image/png": "[encoded data removed]",
      "text/plain": [
       "<Figure size 432x288 with 1 Axes>"
      ]
     },
     "metadata": {
      "needs_background": "light"
     },
     "output_type": "display_data"
    }
   ],
   "source": [
    "N=10\n",
    "G=nx.grid_2d_graph(N,N)\n",
    "\n",
    "# print()\n",
    "# print(G.edges)\n",
    "# pos = dict( (n, n) for n in G.nodes() )\n",
    "# labels = dict( ((i, j), i + (N-1-j) * N ) for i, j in G.nodes() )\n",
    "# print()\n",
    "# print(labels)\n",
    "reversed_nodes = list(reversed(list(G.nodes)))\n",
    "print(list(reversed_nodes))\n",
    "nx.relabel_nodes(G, dict(zip(G.nodes, range(N**2))), False)\n",
    "nx.relabel_nodes(G, dict(zip(range(N**2), reversed_nodes)), False)\n",
    "\n",
    "# inds=labels.keys()\n",
    "# vals=labels.values()\n",
    "# sorted(inds)\n",
    "# sorted(vals)\n",
    "# pos2=dict(zip(vals,inds))\n",
    "\n",
    "# nx.draw_networkx(G, pos=pos2, with_labels=False, node_size = 25)\n",
    "\n",
    "pickups = [(0,0), (1,1), (2,2), (3,3), (9,9)]\n",
    "\n",
    "nx.draw_networkx_nodes(G, pos,\n",
    "                       nodelist=pickups,\n",
    "                       node_color='r',\n",
    "                       node_size=50,\n",
    "                       alpha=0.8)\n",
    "nx.draw_networkx_nodes(G, pos,\n",
    "                       nodelist=[node for node in G.nodes if node not in pickups],\n",
    "                       node_color='b',\n",
    "                       node_size=500,\n",
    "                       alpha=0.8)\n",
    "\n",
    "# edges\n",
    "nx.draw_networkx_edges(G, pos, width=1.0, alpha=0.5)\n",
    "# nx.draw_networkx_edges(G, pos,\n",
    "#                        edgelist=[(0, 1), (1, 2), (2, 3), (3, 0)],\n",
    "#                        width=8, alpha=0.5, edge_color='r')\n",
    "# nx.draw_networkx_edges(G, pos,\n",
    "#                        edgelist=[(4, 5), (5, 6), (6, 7), (7, 4)],\n",
    "#                        width=8, alpha=0.5, edge_color='b')\n",
    "\n",
    "labels = {}\n",
    "labels[0] = r'$a$'\n",
    "labels[1] = r'$b$'\n",
    "labels[2] = r'$c$'\n",
    "labels[3] = r'$d$'\n",
    "labels[4] = r'$\\alpha$'\n",
    "labels[5] = r'$\\beta$'\n",
    "labels[6] = r'$\\gamma$'\n",
    "labels[7] = r'$\\delta$'\n",
    "nx.draw_networkx_labels(G, pos, labels, font_size=16)\n",
    "\n",
    "plt.axis('off')\n",
    "plt.show()"
   ]
  },
  {
   "cell_type": "code",
   "execution_count": 38,
   "metadata": {},
   "outputs": [],
   "source": [
    "mappy = Map(10)"
   ]
  },
  {
   "cell_type": "code",
   "execution_count": 39,
   "metadata": {},
   "outputs": [
    {
     "data": {
      "image/png": "[encoded data removed]",
      "text/plain": [
       "<Figure size 432x288 with 2 Axes>"
      ]
     },
     "metadata": {
      "needs_background": "light"
     },
     "output_type": "display_data"
    }
   ],
   "source": [
    "mappy.visualize_map()"
   ]
  },
  {
   "cell_type": "code",
   "execution_count": 9,
   "metadata": {},
   "outputs": [],
   "source": []
  },
  {
   "cell_type": "code",
   "execution_count": 40,
   "metadata": {},
   "outputs": [],
   "source": [
    "BETA_MAP = np.ndarray((10,10))"
   ]
  },
  {
   "cell_type": "code",
   "execution_count": 46,
   "metadata": {},
   "outputs": [
    {
     "data": {
      "text/plain": [
       "<matplotlib.image.AxesImage at 0x2550ec54588>"
      ]
     },
     "execution_count": 46,
     "metadata": {},
     "output_type": "execute_result"
    },
    {
     "data": {
      "image/png": "[encoded data removed]",
      "text/plain": [
       "<Figure size 432x288 with 1 Axes>"
      ]
     },
     "metadata": {
      "needs_background": "light"
     },
     "output_type": "display_data"
    }
   ],
   "source": [
    "pyplot.imshow(BETA_MAP) "
   ]
  },
  {
   "cell_type": "code",
   "execution_count": 47,
   "metadata": {},
   "outputs": [],
   "source": [
    "BETA_MAP[0,0] = 1 "
   ]
  },
  {
   "cell_type": "code",
   "execution_count": 48,
   "metadata": {},
   "outputs": [
    {
     "data": {
      "text/plain": [
       "<matplotlib.image.AxesImage at 0x2550eca7b00>"
      ]
     },
     "execution_count": 48,
     "metadata": {},
     "output_type": "execute_result"
    },
    {
     "data": {
      "image/png": "[encoded data removed]",
      "text/plain": [
       "<Figure size 432x288 with 1 Axes>"
      ]
     },
     "metadata": {
      "needs_background": "light"
     },
     "output_type": "display_data"
    }
   ],
   "source": [
    "pyplot.imshow(BETA_MAP) "
   ]
  },
  {
   "cell_type": "code",
   "execution_count": null,
   "metadata": {},
   "outputs": [],
   "source": [
    "def map_to_graph():\n",
    "    \"\"\"\n",
    "    Takes simple array map and turns it into a standard graph representation for algorithm usage.\n",
    "    \n",
    "    args: map (np.ndarray) - \n",
    "    \n",
    "    returns: graph ()\n",
    "    \"\"\""
   ]
  },
  {
   "cell_type": "code",
   "execution_count": 10,
   "metadata": {},
   "outputs": [],
   "source": []
  },
  {
   "cell_type": "code",
   "execution_count": null,
   "metadata": {},
   "outputs": [],
   "source": [
    "class Itinerary():\n",
    "    \"\"\"\n",
    "    TODO: Docstring\n",
    "    \"\"\"\n",
    "    def __init__():\n",
    "        pass\n",
    "    \n",
    "    def add_passenger():\n",
    "        "
   ]
  },
  {
   "cell_type": "code",
   "execution_count": null,
   "metadata": {},
   "outputs": [],
   "source": []
  },
  {
   "cell_type": "code",
   "execution_count": null,
   "metadata": {},
   "outputs": [],
   "source": [
    "class MetricsPackage(ABC):\n",
    "    \"\"\"\n",
    "    TODO: Docstring\n",
    "    Generic metrics package that should be extensible for many situations using similar simulation/ same simulator\n",
    "    \"\"\"\n",
    "    "
   ]
  },
  {
   "cell_type": "code",
   "execution_count": 234,
   "metadata": {},
   "outputs": [],
   "source": []
  },
  {
   "cell_type": "code",
   "execution_count": 157,
   "metadata": {},
   "outputs": [
    {
     "ename": "IndentationError",
     "evalue": "expected an indented block (<ipython-input-157-7c43b0d18be8>, line 26)",
     "output_type": "error",
     "traceback": [
      "\u001b[1;36m  File \u001b[1;32m\"<ipython-input-157-7c43b0d18be8>\"\u001b[1;36m, line \u001b[1;32m26\u001b[0m\n\u001b[1;33m    class BruteForceOptimizer(AbstractOptimizer):\u001b[0m\n\u001b[1;37m                                                 ^\u001b[0m\n\u001b[1;31mIndentationError\u001b[0m\u001b[1;31m:\u001b[0m expected an indented block\n"
     ]
    }
   ],
   "source": [
    "class GrassFireSOPOptimizer(AbstractSOPOptimizer):\n",
    "    \"\"\"\n",
    "    TODO: Docstring\n",
    "    \"\"\"\n",
    "    def __init__():\n",
    "        pass\n",
    "    \n",
    "class MSTSOPOptimizer(AbstractSOPOptimizer):\n",
    "    \"\"\"\n",
    "    TODO: Docstring\n",
    "    \"\"\"\n",
    "    def __init__():\n",
    "        pass\n",
    "    \n",
    "class NPResearchSOPOptimizer(AbstractSOPOptimizer):\n",
    "    \"\"\"\n",
    "    TODO: Docstring\n",
    "    \"\"\"\n",
    "    def __init__():\n",
    "        pass"
   ]
  },
  {
   "cell_type": "code",
   "execution_count": 57,
   "metadata": {},
   "outputs": [
    {
     "data": {
      "text/plain": [
       "<__main__.TrivialOptimizer at 0x2550ecd43c8>"
      ]
     },
     "execution_count": 57,
     "metadata": {},
     "output_type": "execute_result"
    }
   ],
   "source": [
    "TrivialOptimizer()"
   ]
  },
  {
   "cell_type": "code",
   "execution_count": null,
   "metadata": {},
   "outputs": [],
   "source": []
  }
 ],
 "metadata": {
  "kernelspec": {
   "display_name": "Python 3",
   "language": "python",
   "name": "python3"
  },
  "language_info": {
   "codemirror_mode": {
    "name": "ipython",
    "version": 3
   },
   "file_extension": ".py",
   "mimetype": "text/x-python",
   "name": "python",
   "nbconvert_exporter": "python",
   "pygments_lexer": "ipython3",
   "version": "3.7.0"
  }
 },
 "nbformat": 4,
 "nbformat_minor": 2
}
