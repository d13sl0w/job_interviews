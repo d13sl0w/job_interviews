{
 "cells": [
  {
   "cell_type": "code",
   "execution_count": null,
   "metadata": {},
   "outputs": [],
   "source": []
  },
  {
   "cell_type": "code",
   "execution_count": 65,
   "metadata": {},
   "outputs": [],
   "source": [
    "from abc import ABC, abstractmethod\n",
    "import matplotlib as plt \n",
    "from matplotlib import pyplot\n",
    "import numpy as np\n",
    "from collections import namedtuple\n",
    "from datetime import datetime"
   ]
  },
  {
   "cell_type": "code",
   "execution_count": 61,
   "metadata": {},
   "outputs": [],
   "source": [
    "# Example time_step\n",
    "sample_input_0 = {\n",
    "    \"requests\": [\n",
    "         { \n",
    "           \"name\": \"Elon\", \n",
    "           \"start\": (3,5), \n",
    "           \"end\": (8,7) \n",
    "        },\n",
    "        { \n",
    "           \"name\": \"George\", \n",
    "           \"start\": (1,2), \n",
    "           \"end\": (4,3) \n",
    "        }\n",
    "      ] \n",
    "   }\n",
    "\n",
    "sample_input_1 = {\n",
    "    \"requests\": [\n",
    "         { \n",
    "           \"name\": \"Elton\", \n",
    "           \"start\": (8,8), \n",
    "           \"end\": (0,1) \n",
    "        },\n",
    "        { \n",
    "           \"name\": \"Georgia\", \n",
    "           \"start\": (3,9), \n",
    "           \"end\": (3,0) \n",
    "        }\n",
    "      ] \n",
    "   }"
   ]
  },
  {
   "cell_type": "code",
   "execution_count": 80,
   "metadata": {},
   "outputs": [
    {
     "data": {
      "text/plain": [
       "'C:\\\\Users\\\\Doug'"
      ]
     },
     "execution_count": 80,
     "metadata": {},
     "output_type": "execute_result"
    }
   ],
   "source": [
    "% pwd"
   ]
  },
  {
   "cell_type": "markdown",
   "metadata": {},
   "source": [
    "### REMEMBER YOU ALREADY DID A BUNCH OF THE ALGO STUFF ON OTHER LAPPTOP"
   ]
  },
  {
   "cell_type": "code",
   "execution_count": 115,
   "metadata": {},
   "outputs": [],
   "source": [
    "Itinerary = namedtuple(\"Itinerary\", [\"to_pickup\", \"to_dropoff\", \"hold_dropoff\"], defaults=[set(),set(),set()])\n",
    "Location = namedtuple(\"Location\", (\"x\", \"y\"))\n",
    "Velocity = namedtuple(\"Velocity\", (\"dx\", \"dy\"))\n",
    "Stop = namedtuple(\"Stop\", (\"location\", \"pickup_or_dropoff\", \"passenger\")) # TODO: ENUMERATED TYPE"
   ]
  },
  {
   "cell_type": "code",
   "execution_count": 147,
   "metadata": {},
   "outputs": [],
   "source": []
  },
  {
   "cell_type": "code",
   "execution_count": 148,
   "metadata": {},
   "outputs": [],
   "source": [
    "class Passenger():\n",
    "    identifier = 0\n",
    "    \"\"\"\n",
    "    TODO: Docstring\n",
    "    \"\"\"\n",
    "    def __init__(self, name, pickup_location: Location, dropoff_location: Location):\n",
    "        self.name = name\n",
    "        self.identifier = Passenger.identifier\n",
    "        Passenger.identifier += 1\n",
    "        self.is_in_car = False\n",
    "        self.pickup_coordinates = pickup_location\n",
    "        self.dropoff_coordinates = dropoff_location\n",
    "        self.time_since_requested_pickup = datetime.now()\n",
    "        self.time_picked_up = None\n",
    "        self.time_since_picked_up = None\n",
    "        self.time_dropped_off = None\n",
    "        "
   ]
  },
  {
   "cell_type": "code",
   "execution_count": 149,
   "metadata": {},
   "outputs": [],
   "source": [
    "class Simulator():\n",
    "    \"\"\"\n",
    "    TODO: Docstring\n",
    "    \"\"\"\n",
    "    def __init__(self, optimizer=None, planner=None, map_size=10, map_scale_block_to_km=1, car_origin=(0,0), max_time=None):\n",
    "        self.current_timestep = 0\n",
    "        print(\"timestep: {}\".format(self.current_timestep))\n",
    "        self.mappy = Map(map_size)\n",
    "        self.auto_car = Car(car_origin)\n",
    "        print(\"current car location: {}\".format(self.auto_car.current_location))\n",
    "\n",
    "        self.optimizer = optimizer\n",
    "        pass\n",
    "    \n",
    "    def step_forward(self, request_list=[]):\n",
    "        if request_list:\n",
    "            for passenger_dict in request_list[\"requests\"]:\n",
    "                passenger = Passenger(\n",
    "                    name=passenger_dict[\"name\"],\n",
    "                    pickup_coordinates=passenger_dict[\"start\"],\n",
    "                    dropoff_coordinates=passenger_dict[\"end\"])\n",
    "                self.auto_car.add_passenger_to_itinerary(passenger) # [for passenger in request_list]\n",
    "    \n",
    "        self.auto_car.drive_for_one_timestep()\n",
    "        \n",
    "        self.current_timestep += 1\n",
    "        print(\"timestep: {}\".format(self.current_timestep))\n",
    "        print(\"current car location: {}\".format(self.auto_car.current_location))\n",
    "        \n",
    "    def visualize_map():\n",
    "        pass\n",
    "    \n",
    "    def run_simulation(steps):\n",
    "        self.step_forward(sample_input_0)\n",
    "        self.step_forward()\n",
    "        self.step_forward()\n",
    "        self.step_forward()\n",
    "        self.step_forward()\n",
    "        for step in range(steps):\n",
    "            self.step_forward(sample_input_0)\n",
    "            \n",
    "    \n",
    "    "
   ]
  },
  {
   "cell_type": "code",
   "execution_count": 155,
   "metadata": {},
   "outputs": [],
   "source": [
    "class Car():\n",
    "    \"\"\"\n",
    "    TODO: Docstring\n",
    "    \"\"\"\n",
    "    def __init__(self, initial_location: tuple):\n",
    "        self.current_location = Location(*initial_location)\n",
    "        self.itinerary = Itinerary()\n",
    "        self.history = []\n",
    "        self.passenger_log = []\n",
    "        sample_passenger = Passenger('sample', Location(10,10), Location(5,5))\n",
    "        self.itinerary.to_pickup.add(sample_passenger)\n",
    "        self.itinerary.hold_dropoff.add(sample_passenger)\n",
    "        self.next_stop = Stop(Location(10,10), \"pickup\", sample_passenger)\n",
    "        self.current_velocity = Velocity(0,0)\n",
    "        self.active_users = [sample_passenger]\n",
    "        \n",
    "    def add_passenger_to_itinerary(self, passenger):\n",
    "        self.itinerary.to_pickup.add(passenger)\n",
    "        self.itinerary.hold_dropoff.add(passenger)\n",
    "        print(list(self.itinerary))\n",
    "        \n",
    "    def optimize_route(self):\n",
    "        # stand-in dummy one, first come, first serve\n",
    "        \n",
    "    \n",
    "    def set_next_stop(self):\n",
    "        pass\n",
    "    \n",
    "    def plan_path_to_next_stop(self): # more like a trajectory in some senses, but whatever, will get back to it.\n",
    "        # another strategy potentially; this is just a stand-in dummy one\n",
    "        if self.current_location.x != self.next_stop.location.x: # Manhattan grid, drive along x until aligned with destination, then along y\n",
    "            self.current_velocity = Velocity(np.sign(self.next_stop.location.x - self.current_location.x), 0)\n",
    "        elif self.current_location.y != self.next_stop.location.y:\n",
    "            self.current_velocity = Velocity(0, np.sign(self.next_stop.location.y - self.current_location.y))\n",
    "        else:\n",
    "            self.current_velocity = Velocity(0, 0)\n",
    "        \n",
    "    def drive_for_one_timestep(self):\n",
    "        self.optimize_route()\n",
    "        self.set_next_stop()\n",
    "        self.plan_path_to_next_stop()\n",
    "    \n",
    "        self.current_location = Location( # where in this is self-monitoring for staying in bounds going to occur? probably can be relegated to only request ingestion since there's no obstables\n",
    "                                    self.current_location.x + self.current_velocity.dx,\n",
    "                                    self.current_location.y + self.current_velocity.dy\n",
    "                                )\n",
    "        if self.current_location == self.next_stop.location:\n",
    "            print(\"STOPPPING HERE FOR {}\".format(self.next_stop.passenger.name))\n",
    "            if self.next_stop.pickup_or_dropoff == \"dropoff\":\n",
    "                self.next_stop.passenger.time_dropped_off = datetime.now()\n",
    "                self.itinerary.to_dropoff.remove(self.next_stop.passenger)\n",
    "            elif self.next_stop.pickup_or_dropoff == \"pickup\":\n",
    "                self.next_stop.passenger.time_picked_up = datetime.now()\n",
    "                self.itinerary.to_pickup.remove(self.next_stop.passenger)\n",
    "                self.itinerary.hold_dropoff.remove(self.next_stop.passenger)\n",
    "                self.itinerary.to_dropoff.add(self.next_stop.passenger)\n",
    "            for passenger in self.itinerary.to_pickup:\n",
    "                print(passenger.__dict__)\n",
    "            for passenger in self.itinerary.to_dropoff:\n",
    "                print(passenger.__dict__)\n",
    "            for passenger in self.itinerary.hold_dropoff:\n",
    "                print(passenger.__dict__)\n",
    "            \n",
    "        \n",
    "    def pickup_passenger(self, passenger):\n",
    "        passenger.time_since_picked_up = datetime.now()\n",
    "        self.itinerary.hold_dropoff.remove(passenger)\n",
    "        self.itinerary.add_dropoff.add(passenger)\n",
    "        self.active_users.append(passenger)\n",
    "        \n",
    "    def dropoff_passenger():\n",
    "        pass"
   ]
  },
  {
   "cell_type": "markdown",
   "metadata": {},
   "source": [
    "## EXAMPLE USAGE"
   ]
  },
  {
   "cell_type": "code",
   "execution_count": 156,
   "metadata": {},
   "outputs": [
    {
     "name": "stdout",
     "output_type": "stream",
     "text": [
      "timestep: 0\n",
      "current car location: Location(x=0, y=0)\n",
      "timestep: 1\n",
      "current car location: Location(x=1, y=0)\n",
      "timestep: 2\n",
      "current car location: Location(x=2, y=0)\n",
      "timestep: 3\n",
      "current car location: Location(x=3, y=0)\n",
      "timestep: 4\n",
      "current car location: Location(x=4, y=0)\n",
      "timestep: 5\n",
      "current car location: Location(x=5, y=0)\n",
      "timestep: 6\n",
      "current car location: Location(x=6, y=0)\n",
      "timestep: 7\n",
      "current car location: Location(x=7, y=0)\n",
      "timestep: 8\n",
      "current car location: Location(x=8, y=0)\n",
      "timestep: 9\n",
      "current car location: Location(x=9, y=0)\n",
      "timestep: 10\n",
      "current car location: Location(x=10, y=0)\n",
      "timestep: 11\n",
      "current car location: Location(x=10, y=1)\n",
      "timestep: 12\n",
      "current car location: Location(x=10, y=2)\n",
      "timestep: 13\n",
      "current car location: Location(x=10, y=3)\n",
      "timestep: 14\n",
      "current car location: Location(x=10, y=4)\n",
      "timestep: 15\n",
      "current car location: Location(x=10, y=5)\n",
      "timestep: 16\n",
      "current car location: Location(x=10, y=6)\n",
      "timestep: 17\n",
      "current car location: Location(x=10, y=7)\n",
      "timestep: 18\n",
      "current car location: Location(x=10, y=8)\n",
      "timestep: 19\n",
      "current car location: Location(x=10, y=9)\n",
      "STOPPPING HERE FOR sample\n",
      "{'name': 'sample', 'identifier': 3, 'is_in_car': False, 'pickup_coordinates': Location(x=10, y=10), 'dropoff_coordinates': Location(x=5, y=5), 'time_since_requested_pickup': datetime.datetime(2019, 1, 9, 19, 52, 33, 408589), 'time_picked_up': datetime.datetime(2019, 1, 9, 19, 52, 33, 410087), 'time_since_picked_up': None, 'time_dropped_off': None}\n",
      "timestep: 20\n",
      "current car location: Location(x=10, y=10)\n",
      "STOPPPING HERE FOR sample\n"
     ]
    },
    {
     "ename": "KeyError",
     "evalue": "<__main__.Passenger object at 0x000002159DC18080>",
     "output_type": "error",
     "traceback": [
      "\u001b[1;31m---------------------------------------------------------------------------\u001b[0m",
      "\u001b[1;31mKeyError\u001b[0m                                  Traceback (most recent call last)",
      "\u001b[1;32m<ipython-input-156-50fd9c2d7961>\u001b[0m in \u001b[0;36m<module>\u001b[1;34m()\u001b[0m\n\u001b[0;32m     21\u001b[0m \u001b[0msim\u001b[0m\u001b[1;33m.\u001b[0m\u001b[0mstep_forward\u001b[0m\u001b[1;33m(\u001b[0m\u001b[1;33m)\u001b[0m\u001b[1;33m\u001b[0m\u001b[0m\n\u001b[0;32m     22\u001b[0m \u001b[0msim\u001b[0m\u001b[1;33m.\u001b[0m\u001b[0mstep_forward\u001b[0m\u001b[1;33m(\u001b[0m\u001b[1;33m)\u001b[0m\u001b[1;33m\u001b[0m\u001b[0m\n\u001b[1;32m---> 23\u001b[1;33m \u001b[0msim\u001b[0m\u001b[1;33m.\u001b[0m\u001b[0mstep_forward\u001b[0m\u001b[1;33m(\u001b[0m\u001b[1;33m)\u001b[0m\u001b[1;33m\u001b[0m\u001b[0m\n\u001b[0m\u001b[0;32m     24\u001b[0m \u001b[0msim\u001b[0m\u001b[1;33m.\u001b[0m\u001b[0mstep_forward\u001b[0m\u001b[1;33m(\u001b[0m\u001b[1;33m)\u001b[0m\u001b[1;33m\u001b[0m\u001b[0m\n\u001b[0;32m     25\u001b[0m \u001b[0msim\u001b[0m\u001b[1;33m.\u001b[0m\u001b[0mstep_forward\u001b[0m\u001b[1;33m(\u001b[0m\u001b[1;33m)\u001b[0m\u001b[1;33m\u001b[0m\u001b[0m\n",
      "\u001b[1;32m<ipython-input-149-c0e8ccfbf360>\u001b[0m in \u001b[0;36mstep_forward\u001b[1;34m(self, request_list)\u001b[0m\n\u001b[0;32m     22\u001b[0m                 \u001b[0mself\u001b[0m\u001b[1;33m.\u001b[0m\u001b[0mauto_car\u001b[0m\u001b[1;33m.\u001b[0m\u001b[0madd_passenger_to_itinerary\u001b[0m\u001b[1;33m(\u001b[0m\u001b[0mpassenger\u001b[0m\u001b[1;33m)\u001b[0m \u001b[1;31m# [for passenger in request_list]\u001b[0m\u001b[1;33m\u001b[0m\u001b[0m\n\u001b[0;32m     23\u001b[0m \u001b[1;33m\u001b[0m\u001b[0m\n\u001b[1;32m---> 24\u001b[1;33m         \u001b[0mself\u001b[0m\u001b[1;33m.\u001b[0m\u001b[0mauto_car\u001b[0m\u001b[1;33m.\u001b[0m\u001b[0mdrive_for_one_timestep\u001b[0m\u001b[1;33m(\u001b[0m\u001b[1;33m)\u001b[0m\u001b[1;33m\u001b[0m\u001b[0m\n\u001b[0m\u001b[0;32m     25\u001b[0m \u001b[1;33m\u001b[0m\u001b[0m\n\u001b[0;32m     26\u001b[0m         \u001b[0mself\u001b[0m\u001b[1;33m.\u001b[0m\u001b[0mcurrent_timestep\u001b[0m \u001b[1;33m+=\u001b[0m \u001b[1;36m1\u001b[0m\u001b[1;33m\u001b[0m\u001b[0m\n",
      "\u001b[1;32m<ipython-input-155-ccc2f5a6dac3>\u001b[0m in \u001b[0;36mdrive_for_one_timestep\u001b[1;34m(self)\u001b[0m\n\u001b[0;32m     50\u001b[0m             \u001b[1;32melif\u001b[0m \u001b[0mself\u001b[0m\u001b[1;33m.\u001b[0m\u001b[0mnext_stop\u001b[0m\u001b[1;33m.\u001b[0m\u001b[0mpickup_or_dropoff\u001b[0m \u001b[1;33m==\u001b[0m \u001b[1;34m\"pickup\"\u001b[0m\u001b[1;33m:\u001b[0m\u001b[1;33m\u001b[0m\u001b[0m\n\u001b[0;32m     51\u001b[0m                 \u001b[0mself\u001b[0m\u001b[1;33m.\u001b[0m\u001b[0mnext_stop\u001b[0m\u001b[1;33m.\u001b[0m\u001b[0mpassenger\u001b[0m\u001b[1;33m.\u001b[0m\u001b[0mtime_picked_up\u001b[0m \u001b[1;33m=\u001b[0m \u001b[0mdatetime\u001b[0m\u001b[1;33m.\u001b[0m\u001b[0mnow\u001b[0m\u001b[1;33m(\u001b[0m\u001b[1;33m)\u001b[0m\u001b[1;33m\u001b[0m\u001b[0m\n\u001b[1;32m---> 52\u001b[1;33m                 \u001b[0mself\u001b[0m\u001b[1;33m.\u001b[0m\u001b[0mitinerary\u001b[0m\u001b[1;33m.\u001b[0m\u001b[0mto_pickup\u001b[0m\u001b[1;33m.\u001b[0m\u001b[0mremove\u001b[0m\u001b[1;33m(\u001b[0m\u001b[0mself\u001b[0m\u001b[1;33m.\u001b[0m\u001b[0mnext_stop\u001b[0m\u001b[1;33m.\u001b[0m\u001b[0mpassenger\u001b[0m\u001b[1;33m)\u001b[0m\u001b[1;33m\u001b[0m\u001b[0m\n\u001b[0m\u001b[0;32m     53\u001b[0m                 \u001b[0mself\u001b[0m\u001b[1;33m.\u001b[0m\u001b[0mitinerary\u001b[0m\u001b[1;33m.\u001b[0m\u001b[0mhold_dropoff\u001b[0m\u001b[1;33m.\u001b[0m\u001b[0mremove\u001b[0m\u001b[1;33m(\u001b[0m\u001b[0mself\u001b[0m\u001b[1;33m.\u001b[0m\u001b[0mnext_stop\u001b[0m\u001b[1;33m.\u001b[0m\u001b[0mpassenger\u001b[0m\u001b[1;33m)\u001b[0m\u001b[1;33m\u001b[0m\u001b[0m\n\u001b[0;32m     54\u001b[0m                 \u001b[0mself\u001b[0m\u001b[1;33m.\u001b[0m\u001b[0mitinerary\u001b[0m\u001b[1;33m.\u001b[0m\u001b[0mto_dropoff\u001b[0m\u001b[1;33m.\u001b[0m\u001b[0madd\u001b[0m\u001b[1;33m(\u001b[0m\u001b[0mself\u001b[0m\u001b[1;33m.\u001b[0m\u001b[0mnext_stop\u001b[0m\u001b[1;33m.\u001b[0m\u001b[0mpassenger\u001b[0m\u001b[1;33m)\u001b[0m\u001b[1;33m\u001b[0m\u001b[0m\n",
      "\u001b[1;31mKeyError\u001b[0m: <__main__.Passenger object at 0x000002159DC18080>"
     ]
    }
   ],
   "source": [
    "sim = Simulator()\n",
    "sim.step_forward()\n",
    "# sim.step_forward(sample_input_0)\n",
    "sim.step_forward()\n",
    "sim.step_forward()\n",
    "sim.step_forward()\n",
    "sim.step_forward()\n",
    "sim.step_forward()\n",
    "sim.step_forward()\n",
    "sim.step_forward()\n",
    "sim.step_forward()\n",
    "sim.step_forward()\n",
    "sim.step_forward()\n",
    "sim.step_forward()\n",
    "sim.step_forward()\n",
    "sim.step_forward()\n",
    "sim.step_forward()\n",
    "sim.step_forward()\n",
    "sim.step_forward()\n",
    "sim.step_forward()\n",
    "sim.step_forward()\n",
    "sim.step_forward()\n",
    "sim.step_forward()\n",
    "sim.step_forward()\n",
    "sim.step_forward()\n",
    "sim.step_forward()\n",
    "sim.step_forward()\n",
    "# sim.step_forward(sample_input_1)\n",
    "sim.auto_car.__dict__"
   ]
  },
  {
   "cell_type": "code",
   "execution_count": null,
   "metadata": {},
   "outputs": [],
   "source": []
  },
  {
   "cell_type": "code",
   "execution_count": null,
   "metadata": {},
   "outputs": [],
   "source": []
  },
  {
   "cell_type": "code",
   "execution_count": null,
   "metadata": {},
   "outputs": [],
   "source": []
  },
  {
   "cell_type": "code",
   "execution_count": 82,
   "metadata": {},
   "outputs": [],
   "source": [
    "class Map():\n",
    "    \"\"\"\n",
    "    TODO: Docstring\n",
    "    TODO: Should I also be polymorphic for more complicated grids then just Manahattan maps?\n",
    "    \"\"\"\n",
    "    def __init__(self, map_size):\n",
    "        self.map_size = map_size\n",
    "        self.grid = np.ndarray((map_size, map_size))\n",
    "        \n",
    "    def visualize_map(self, car=None, passenger_list=None):\n",
    "        # make values from -5 to 5, for this example\n",
    "        map_array = np.zeros((self.map_size,self.map_size))\n",
    "\n",
    "        # make a color map of fixed colors\n",
    "        cmap = plt.colors.ListedColormap(['blue','white','red'])\n",
    "        bounds=[-6,-2,2,6]\n",
    "        norm = plt.colors.BoundaryNorm(bounds, cmap.N)\n",
    "\n",
    "        # tell imshow about color map so that only set colors are used\n",
    "        img = pyplot.imshow(map_array,interpolation='nearest',\n",
    "                            cmap = cmap,norm=norm)\n",
    "\n",
    "        # make a color bar\n",
    "        pyplot.colorbar(img,cmap=cmap,\n",
    "                        norm=norm,boundaries=bounds,ticks=[-5,0,5])\n",
    "\n",
    "        pyplot.show()"
   ]
  },
  {
   "cell_type": "code",
   "execution_count": 38,
   "metadata": {},
   "outputs": [],
   "source": [
    "mappy = Map(10)"
   ]
  },
  {
   "cell_type": "code",
   "execution_count": 39,
   "metadata": {},
   "outputs": [
    {
     "data": {
      "image/png": "[encoded data removed]",
      "text/plain": [
       "<Figure size 432x288 with 2 Axes>"
      ]
     },
     "metadata": {
      "needs_background": "light"
     },
     "output_type": "display_data"
    }
   ],
   "source": [
    "mappy.visualize_map()"
   ]
  },
  {
   "cell_type": "code",
   "execution_count": 9,
   "metadata": {},
   "outputs": [],
   "source": []
  },
  {
   "cell_type": "code",
   "execution_count": 40,
   "metadata": {},
   "outputs": [],
   "source": [
    "BETA_MAP = np.ndarray((10,10))"
   ]
  },
  {
   "cell_type": "code",
   "execution_count": 46,
   "metadata": {},
   "outputs": [
    {
     "data": {
      "text/plain": [
       "<matplotlib.image.AxesImage at 0x2550ec54588>"
      ]
     },
     "execution_count": 46,
     "metadata": {},
     "output_type": "execute_result"
    },
    {
     "data": {
      "image/png": "[encoded data removed]",
      "text/plain": [
       "<Figure size 432x288 with 1 Axes>"
      ]
     },
     "metadata": {
      "needs_background": "light"
     },
     "output_type": "display_data"
    }
   ],
   "source": [
    "pyplot.imshow(BETA_MAP) "
   ]
  },
  {
   "cell_type": "code",
   "execution_count": 47,
   "metadata": {},
   "outputs": [],
   "source": [
    "BETA_MAP[0,0] = 1 "
   ]
  },
  {
   "cell_type": "code",
   "execution_count": 48,
   "metadata": {},
   "outputs": [
    {
     "data": {
      "text/plain": [
       "<matplotlib.image.AxesImage at 0x2550eca7b00>"
      ]
     },
     "execution_count": 48,
     "metadata": {},
     "output_type": "execute_result"
    },
    {
     "data": {
      "image/png": "[encoded data removed]",
      "text/plain": [
       "<Figure size 432x288 with 1 Axes>"
      ]
     },
     "metadata": {
      "needs_background": "light"
     },
     "output_type": "display_data"
    }
   ],
   "source": [
    "pyplot.imshow(BETA_MAP) "
   ]
  },
  {
   "cell_type": "code",
   "execution_count": null,
   "metadata": {},
   "outputs": [],
   "source": [
    "def map_to_graph():\n",
    "    \"\"\"\n",
    "    Takes simple array map and turns it into a standard graph representation for algorithm usage.\n",
    "    \n",
    "    args: map (np.ndarray) - \n",
    "    \n",
    "    returns: graph ()\n",
    "    \"\"\""
   ]
  },
  {
   "cell_type": "code",
   "execution_count": 10,
   "metadata": {},
   "outputs": [],
   "source": []
  },
  {
   "cell_type": "code",
   "execution_count": null,
   "metadata": {},
   "outputs": [],
   "source": [
    "class Itinerary():\n",
    "    \"\"\"\n",
    "    TODO: Docstring\n",
    "    \"\"\"\n",
    "    def __init__():\n",
    "        pass\n",
    "    \n",
    "    def add_passenger():\n",
    "        "
   ]
  },
  {
   "cell_type": "code",
   "execution_count": null,
   "metadata": {},
   "outputs": [],
   "source": []
  },
  {
   "cell_type": "code",
   "execution_count": null,
   "metadata": {},
   "outputs": [],
   "source": []
  },
  {
   "cell_type": "code",
   "execution_count": 157,
   "metadata": {},
   "outputs": [
    {
     "ename": "IndentationError",
     "evalue": "expected an indented block (<ipython-input-157-7c43b0d18be8>, line 26)",
     "output_type": "error",
     "traceback": [
      "\u001b[1;36m  File \u001b[1;32m\"<ipython-input-157-7c43b0d18be8>\"\u001b[1;36m, line \u001b[1;32m26\u001b[0m\n\u001b[1;33m    class BruteForceOptimizer(AbstractOptimizer):\u001b[0m\n\u001b[1;37m                                                 ^\u001b[0m\n\u001b[1;31mIndentationError\u001b[0m\u001b[1;31m:\u001b[0m expected an indented block\n"
     ]
    }
   ],
   "source": [
    "class MetricsPackage(ABC):\n",
    "    \"\"\"\n",
    "    TODO: Docstring\n",
    "    Generic metrics package that should be extensible for many situations using similar simulation/ same simulator\n",
    "    \"\"\"\n",
    "    \n",
    "\n",
    "class AbstractOptimizer(ABC):\n",
    "    \"\"\"\n",
    "    TODO: Docstring\n",
    "    Strategy pattern to \n",
    "    \"\"\"\n",
    "    @abstractmethod\n",
    "    def __init__(self):\n",
    "        pass\n",
    "    \n",
    "\n",
    "class DumbOptimizer(AbstractOptimizer):\n",
    "    \"\"\"\n",
    "    Optimizer that simply uses Euclidean (or Manahattan) distance to choose destination\n",
    "        ordering by nearness /only/ to current position. \n",
    "    \"\"\"\n",
    "    def __init__(self):\n",
    "        self.destination_sequence = []\n",
    "        \n",
    "    def optimize_destination_sequence(itinerary):\n",
    "        \n",
    "        \n",
    "    \n",
    "class BruteForceOptimizer(AbstractOptimizer):\n",
    "    \"\"\"\n",
    "    TODO: Docstring\n",
    "    \"\"\"\n",
    "    def __init__():\n",
    "        pass\n",
    "    \n",
    "class GrassFireOptimizer(AbstractOptimizer):\n",
    "    \"\"\"\n",
    "    TODO: Docstring\n",
    "    \"\"\"\n",
    "    def __init__():\n",
    "        pass\n",
    "    \n",
    "class MSTOptimizer(AbstractOptimizer):\n",
    "    \"\"\"\n",
    "    TODO: Docstring\n",
    "    \"\"\"\n",
    "    def __init__():\n",
    "        pass\n",
    "    \n",
    "class SOPOptimizer(AbstractOptimizer):\n",
    "    \"\"\"\n",
    "    TODO: Docstring\n",
    "    \"\"\"\n",
    "    def __init__():\n",
    "        pass"
   ]
  },
  {
   "cell_type": "code",
   "execution_count": 57,
   "metadata": {},
   "outputs": [
    {
     "data": {
      "text/plain": [
       "<__main__.TrivialOptimizer at 0x2550ecd43c8>"
      ]
     },
     "execution_count": 57,
     "metadata": {},
     "output_type": "execute_result"
    }
   ],
   "source": [
    "TrivialOptimizer()"
   ]
  },
  {
   "cell_type": "code",
   "execution_count": null,
   "metadata": {},
   "outputs": [],
   "source": []
  }
 ],
 "metadata": {
  "kernelspec": {
   "display_name": "Python 3",
   "language": "python",
   "name": "python3"
  },
  "language_info": {
   "codemirror_mode": {
    "name": "ipython",
    "version": 3
   },
   "file_extension": ".py",
   "mimetype": "text/x-python",
   "name": "python",
   "nbconvert_exporter": "python",
   "pygments_lexer": "ipython3",
   "version": "3.7.0"
  }
 },
 "nbformat": 4,
 "nbformat_minor": 2
}
